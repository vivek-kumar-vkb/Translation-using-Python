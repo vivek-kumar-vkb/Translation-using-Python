{
 "cells": [
  {
   "cell_type": "code",
   "execution_count": 1,
   "id": "c4284eb5",
   "metadata": {},
   "outputs": [
    {
     "name": "stdout",
     "output_type": "stream",
     "text": [
      "Collecting googletrans==4.0.0-rc1\n",
      "  Downloading googletrans-4.0.0rc1.tar.gz (20 kB)\n",
      "  Preparing metadata (setup.py): started\n",
      "  Preparing metadata (setup.py): finished with status 'done'\n",
      "Requirement already satisfied: httpx==0.13.3 in c:\\users\\user\\anaconda3\\lib\\site-packages (from googletrans==4.0.0-rc1) (0.13.3)\n",
      "Requirement already satisfied: rfc3986<2,>=1.3 in c:\\users\\user\\anaconda3\\lib\\site-packages (from httpx==0.13.3->googletrans==4.0.0-rc1) (1.5.0)\n",
      "Requirement already satisfied: sniffio in c:\\users\\user\\anaconda3\\lib\\site-packages (from httpx==0.13.3->googletrans==4.0.0-rc1) (1.2.0)\n",
      "Requirement already satisfied: httpcore==0.9.* in c:\\users\\user\\anaconda3\\lib\\site-packages (from httpx==0.13.3->googletrans==4.0.0-rc1) (0.9.1)\n",
      "Requirement already satisfied: hstspreload in c:\\users\\user\\anaconda3\\lib\\site-packages (from httpx==0.13.3->googletrans==4.0.0-rc1) (2023.1.1)\n",
      "Requirement already satisfied: idna==2.* in c:\\users\\user\\anaconda3\\lib\\site-packages (from httpx==0.13.3->googletrans==4.0.0-rc1) (2.10)\n",
      "Requirement already satisfied: chardet==3.* in c:\\users\\user\\anaconda3\\lib\\site-packages (from httpx==0.13.3->googletrans==4.0.0-rc1) (3.0.4)\n",
      "Requirement already satisfied: certifi in c:\\users\\user\\anaconda3\\lib\\site-packages (from httpx==0.13.3->googletrans==4.0.0-rc1) (2022.12.7)\n",
      "Requirement already satisfied: h11<0.10,>=0.8 in c:\\users\\user\\anaconda3\\lib\\site-packages (from httpcore==0.9.*->httpx==0.13.3->googletrans==4.0.0-rc1) (0.9.0)\n",
      "Requirement already satisfied: h2==3.* in c:\\users\\user\\anaconda3\\lib\\site-packages (from httpcore==0.9.*->httpx==0.13.3->googletrans==4.0.0-rc1) (3.2.0)\n",
      "Requirement already satisfied: hpack<4,>=3.0 in c:\\users\\user\\anaconda3\\lib\\site-packages (from h2==3.*->httpcore==0.9.*->httpx==0.13.3->googletrans==4.0.0-rc1) (3.0.0)\n",
      "Requirement already satisfied: hyperframe<6,>=5.2.0 in c:\\users\\user\\anaconda3\\lib\\site-packages (from h2==3.*->httpcore==0.9.*->httpx==0.13.3->googletrans==4.0.0-rc1) (5.2.0)\n",
      "Building wheels for collected packages: googletrans\n",
      "  Building wheel for googletrans (setup.py): started\n",
      "  Building wheel for googletrans (setup.py): finished with status 'done'\n",
      "  Created wheel for googletrans: filename=googletrans-4.0.0rc1-py3-none-any.whl size=17461 sha256=320cae1766c29e0dfad3899d0cea45ec3d2d2684ef862e80d88966837a1df529\n",
      "  Stored in directory: c:\\users\\user\\appdata\\local\\pip\\cache\\wheels\\54\\ca\\27\\562b6eac3a495887e4b44bac3a1efe925fa603d085ba89a21d\n",
      "Successfully built googletrans\n",
      "Installing collected packages: googletrans\n",
      "  Attempting uninstall: googletrans\n",
      "    Found existing installation: googletrans 3.1.0a0\n",
      "    Uninstalling googletrans-3.1.0a0:\n",
      "      Successfully uninstalled googletrans-3.1.0a0\n",
      "Successfully installed googletrans-4.0.0rc1\n",
      "Note: you may need to restart the kernel to use updated packages.\n"
     ]
    }
   ],
   "source": [
    "pip install googletrans==4.0.0-rc1"
   ]
  },
  {
   "cell_type": "code",
   "execution_count": 5,
   "id": "906848d5",
   "metadata": {},
   "outputs": [
    {
     "name": "stdout",
     "output_type": "stream",
     "text": [
      "Collecting googletrans==3.1.0a0Note: you may need to restart the kernel to use updated packages.\n",
      "\n",
      "  Using cached googletrans-3.1.0a0-py3-none-any.whl\n",
      "Requirement already satisfied: httpx==0.13.3 in c:\\users\\user\\anaconda3\\lib\\site-packages (from googletrans==3.1.0a0) (0.13.3)\n",
      "Requirement already satisfied: rfc3986<2,>=1.3 in c:\\users\\user\\anaconda3\\lib\\site-packages (from httpx==0.13.3->googletrans==3.1.0a0) (1.5.0)\n",
      "Requirement already satisfied: httpcore==0.9.* in c:\\users\\user\\anaconda3\\lib\\site-packages (from httpx==0.13.3->googletrans==3.1.0a0) (0.9.1)\n",
      "Requirement already satisfied: certifi in c:\\users\\user\\anaconda3\\lib\\site-packages (from httpx==0.13.3->googletrans==3.1.0a0) (2022.12.7)\n",
      "Requirement already satisfied: hstspreload in c:\\users\\user\\anaconda3\\lib\\site-packages (from httpx==0.13.3->googletrans==3.1.0a0) (2023.1.1)\n",
      "Requirement already satisfied: idna==2.* in c:\\users\\user\\anaconda3\\lib\\site-packages (from httpx==0.13.3->googletrans==3.1.0a0) (2.10)\n",
      "Requirement already satisfied: sniffio in c:\\users\\user\\anaconda3\\lib\\site-packages (from httpx==0.13.3->googletrans==3.1.0a0) (1.2.0)\n",
      "Requirement already satisfied: chardet==3.* in c:\\users\\user\\anaconda3\\lib\\site-packages (from httpx==0.13.3->googletrans==3.1.0a0) (3.0.4)\n",
      "Requirement already satisfied: h2==3.* in c:\\users\\user\\anaconda3\\lib\\site-packages (from httpcore==0.9.*->httpx==0.13.3->googletrans==3.1.0a0) (3.2.0)\n",
      "Requirement already satisfied: h11<0.10,>=0.8 in c:\\users\\user\\anaconda3\\lib\\site-packages (from httpcore==0.9.*->httpx==0.13.3->googletrans==3.1.0a0) (0.9.0)\n",
      "Requirement already satisfied: hpack<4,>=3.0 in c:\\users\\user\\anaconda3\\lib\\site-packages (from h2==3.*->httpcore==0.9.*->httpx==0.13.3->googletrans==3.1.0a0) (3.0.0)\n",
      "Requirement already satisfied: hyperframe<6,>=5.2.0 in c:\\users\\user\\anaconda3\\lib\\site-packages (from h2==3.*->httpcore==0.9.*->httpx==0.13.3->googletrans==3.1.0a0) (5.2.0)\n",
      "Installing collected packages: googletrans\n",
      "  Attempting uninstall: googletrans\n",
      "    Found existing installation: googletrans 4.0.0rc1\n",
      "    Uninstalling googletrans-4.0.0rc1:\n",
      "      Successfully uninstalled googletrans-4.0.0rc1\n",
      "Successfully installed googletrans-3.1.0a0\n"
     ]
    }
   ],
   "source": [
    "pip install googletrans==3.1.0a0"
   ]
  },
  {
   "cell_type": "code",
   "execution_count": 7,
   "id": "ed646edf",
   "metadata": {},
   "outputs": [
    {
     "name": "stdout",
     "output_type": "stream",
     "text": [
      "Collecting translate\n",
      "  Downloading translate-3.6.1-py2.py3-none-any.whl (12 kB)\n",
      "Requirement already satisfied: requests in c:\\users\\user\\anaconda3\\lib\\site-packages (from translate) (2.28.1)\n",
      "Requirement already satisfied: lxml in c:\\users\\user\\anaconda3\\lib\\site-packages (from translate) (4.9.1)\n",
      "Requirement already satisfied: click in c:\\users\\user\\anaconda3\\lib\\site-packages (from translate) (8.0.4)\n",
      "Collecting libretranslatepy==2.1.1\n",
      "  Downloading libretranslatepy-2.1.1-py3-none-any.whl (3.2 kB)\n",
      "Requirement already satisfied: colorama in c:\\users\\user\\anaconda3\\lib\\site-packages (from click->translate) (0.4.6)\n",
      "Requirement already satisfied: charset-normalizer<3,>=2 in c:\\users\\user\\anaconda3\\lib\\site-packages (from requests->translate) (2.0.4)\n",
      "Requirement already satisfied: certifi>=2017.4.17 in c:\\users\\user\\anaconda3\\lib\\site-packages (from requests->translate) (2022.12.7)\n",
      "Requirement already satisfied: urllib3<1.27,>=1.21.1 in c:\\users\\user\\anaconda3\\lib\\site-packages (from requests->translate) (1.26.14)\n",
      "Requirement already satisfied: idna<4,>=2.5 in c:\\users\\user\\anaconda3\\lib\\site-packages (from requests->translate) (2.10)\n",
      "Installing collected packages: libretranslatepy, translate\n",
      "Successfully installed libretranslatepy-2.1.1 translate-3.6.1\n",
      "Note: you may need to restart the kernel to use updated packages.\n"
     ]
    }
   ],
   "source": [
    "pip install translate"
   ]
  },
  {
   "cell_type": "code",
   "execution_count": 9,
   "id": "9c22320b",
   "metadata": {},
   "outputs": [
    {
     "name": "stdout",
     "output_type": "stream",
     "text": [
      "              霈Ｗ蝻  銋啣振砍詨         銋啣振隡        摰嗅砍詨        摰嗡  韐批颱遠()  餈韐()  \\\n",
      "0    3.704877e+18    NaN  tb582836650  啣撣頝舀‘銋蝻萄∪銵      銋蝻韐豢    75.0  10.0   \n",
      "1             NaN    NaN          NaN         NaN       NaN     NaN   NaN   \n",
      "2    3.704473e+18    NaN  tb582836650  瘛勗喳樴箸偶鞊芰桀瑕    唳偶鞊芰桀瑕    78.0   6.0   \n",
      "3             NaN    NaN          NaN         NaN       NaN     NaN   NaN   \n",
      "4             NaN    NaN          NaN         NaN       NaN     NaN   NaN   \n",
      "..            ...    ...          ...         ...       ...     ...   ...   \n",
      "103           NaN    NaN          NaN         NaN       NaN     NaN   NaN   \n",
      "104  3.662935e+18    NaN  tb582836650    撟踹甈扯脰擖唳砍    撟踹甈扯脰擖    72.0   8.0   \n",
      "105           NaN    NaN          NaN         NaN       NaN     NaN   NaN   \n",
      "106  3.662918e+18    NaN  tb582836650   撋撌撣銋擖圈撣行砍  銋擖圈撣1688    10.0   7.0   \n",
      "107           NaN    NaN          NaN         NaN       NaN     NaN   NaN   \n",
      "\n",
      "     瘨其遠()  摰隞甈()      霈Ｗ嗆  ... 隞蝟餅孵 臬虫誨霈Ｗ 隞∪id 敺桀霈Ｗ 銝寞活  銝皜豢  銝皜貉恥  銝砍訾蜓雿  \\\n",
      "0      0.0   85.0  蝑敺銋啣振隞甈  ...  NaN   NaN  NaN  NaN NaN  NaN   NaN    NaN   \n",
      "1      NaN    NaN      NaN  ...  NaN   NaN  NaN  NaN NaN  NaN   NaN    NaN   \n",
      "2      0.0   75.0  蝑敺銋啣振隞甈  ...  NaN   NaN  NaN  NaN NaN  NaN   NaN    NaN   \n",
      "3      NaN    NaN      NaN  ...  NaN   NaN  NaN  NaN NaN  NaN   NaN    NaN   \n",
      "4      NaN    NaN      NaN  ...  NaN   NaN  NaN  NaN NaN  NaN   NaN    NaN   \n",
      "..     ...    ...      ...  ...  ...   ...  ...  ...  ..  ...   ...    ...   \n",
      "103    NaN    NaN      NaN  ...  NaN   NaN  NaN  NaN NaN  NaN   NaN    NaN   \n",
      "104    0.0   80.0       鈭斗  ...  NaN   NaN  NaN  NaN NaN  NaN   NaN    NaN   \n",
      "105    NaN    NaN      NaN  ...  NaN   NaN  NaN  NaN NaN  NaN   NaN    NaN   \n",
      "106    0.0   17.0       鈭斗  ...  NaN   NaN  NaN  NaN NaN  NaN   NaN    NaN   \n",
      "107    NaN    NaN      NaN  ...  NaN   NaN  NaN  NaN NaN  NaN   NaN    NaN   \n",
      "\n",
      "            韏瑚犖餃  臬血韏瑕撖臭(1:瘛韐扳霂e韏撖臭2:寥銝撖臭)  \n",
      "0    tb582836650                       NaN  \n",
      "1            NaN                       NaN  \n",
      "2    tb582836650                       NaN  \n",
      "3            NaN                       NaN  \n",
      "4            NaN                       NaN  \n",
      "..           ...                       ...  \n",
      "103          NaN                       NaN  \n",
      "104  tb582836650                       NaN  \n",
      "105          NaN                       NaN  \n",
      "106  tb582836650                       NaN  \n",
      "107          NaN                       NaN  \n",
      "\n",
      "[108 rows x 49 columns]\n"
     ]
    }
   ],
   "source": [
    "import pandas as pd\n",
    "import numpy as np\n",
    "\n",
    "df=pd.read_csv(r\"C:\\Users\\User\\Downloads\\Order Export Trans.csv\",encoding='big5',encoding_errors='ignore')\n",
    "\n",
    "print(df)"
   ]
  },
  {
   "cell_type": "code",
   "execution_count": 10,
   "id": "5291c23a",
   "metadata": {},
   "outputs": [
    {
     "name": "stdout",
     "output_type": "stream",
     "text": [
      "Requirement already satisfied: pandas in c:\\users\\user\\anaconda3\\lib\\site-packages (1.5.3)\n",
      "Requirement already satisfied: googletrans==3.1.0a0 in c:\\users\\user\\anaconda3\\lib\\site-packages (3.1.0a0)\n",
      "Requirement already satisfied: httpx==0.13.3 in c:\\users\\user\\anaconda3\\lib\\site-packages (from googletrans==3.1.0a0) (0.13.3)\n",
      "Requirement already satisfied: sniffio in c:\\users\\user\\anaconda3\\lib\\site-packages (from httpx==0.13.3->googletrans==3.1.0a0) (1.2.0)\n",
      "Requirement already satisfied: httpcore==0.9.* in c:\\users\\user\\anaconda3\\lib\\site-packages (from httpx==0.13.3->googletrans==3.1.0a0) (0.9.1)\n",
      "Requirement already satisfied: idna==2.* in c:\\users\\user\\anaconda3\\lib\\site-packages (from httpx==0.13.3->googletrans==3.1.0a0) (2.10)\n",
      "Requirement already satisfied: chardet==3.* in c:\\users\\user\\anaconda3\\lib\\site-packages (from httpx==0.13.3->googletrans==3.1.0a0) (3.0.4)\n",
      "Requirement already satisfied: certifi in c:\\users\\user\\anaconda3\\lib\\site-packages (from httpx==0.13.3->googletrans==3.1.0a0) (2022.12.7)\n",
      "Requirement already satisfied: rfc3986<2,>=1.3 in c:\\users\\user\\anaconda3\\lib\\site-packages (from httpx==0.13.3->googletrans==3.1.0a0) (1.5.0)\n",
      "Requirement already satisfied: hstspreload in c:\\users\\user\\anaconda3\\lib\\site-packages (from httpx==0.13.3->googletrans==3.1.0a0) (2023.1.1)\n",
      "Requirement already satisfied: h11<0.10,>=0.8 in c:\\users\\user\\anaconda3\\lib\\site-packages (from httpcore==0.9.*->httpx==0.13.3->googletrans==3.1.0a0) (0.9.0)\n",
      "Requirement already satisfied: h2==3.* in c:\\users\\user\\anaconda3\\lib\\site-packages (from httpcore==0.9.*->httpx==0.13.3->googletrans==3.1.0a0) (3.2.0)\n",
      "Requirement already satisfied: hyperframe<6,>=5.2.0 in c:\\users\\user\\anaconda3\\lib\\site-packages (from h2==3.*->httpcore==0.9.*->httpx==0.13.3->googletrans==3.1.0a0) (5.2.0)\n",
      "Requirement already satisfied: hpack<4,>=3.0 in c:\\users\\user\\anaconda3\\lib\\site-packages (from h2==3.*->httpcore==0.9.*->httpx==0.13.3->googletrans==3.1.0a0) (3.0.0)\n",
      "Requirement already satisfied: numpy>=1.21.0 in c:\\users\\user\\anaconda3\\lib\\site-packages (from pandas) (1.23.5)\n",
      "Requirement already satisfied: pytz>=2020.1 in c:\\users\\user\\anaconda3\\lib\\site-packages (from pandas) (2022.7)\n",
      "Requirement already satisfied: python-dateutil>=2.8.1 in c:\\users\\user\\anaconda3\\lib\\site-packages (from pandas) (2.8.2)\n",
      "Requirement already satisfied: six>=1.5 in c:\\users\\user\\anaconda3\\lib\\site-packages (from python-dateutil>=2.8.1->pandas) (1.16.0)\n",
      "Note: you may need to restart the kernel to use updated packages.\n"
     ]
    }
   ],
   "source": [
    "pip install pandas googletrans==3.1.0a0"
   ]
  },
  {
   "cell_type": "markdown",
   "id": "cf9d1c39",
   "metadata": {},
   "source": [
    "### Doing the code we encountered a lot of reading limit errors. So we are importing retrying module"
   ]
  },
  {
   "cell_type": "code",
   "execution_count": 8,
   "id": "137d55bd",
   "metadata": {},
   "outputs": [
    {
     "name": "stdout",
     "output_type": "stream",
     "text": [
      "Collecting retrying\n",
      "  Downloading retrying-1.3.4-py3-none-any.whl (11 kB)\n",
      "Requirement already satisfied: six>=1.7.0 in c:\\users\\user\\anaconda3\\lib\\site-packages (from retrying) (1.16.0)\n",
      "Installing collected packages: retrying\n",
      "Successfully installed retrying-1.3.4\n",
      "Note: you may need to restart the kernel to use updated packages.\n"
     ]
    }
   ],
   "source": [
    "pip install retrying "
   ]
  },
  {
   "cell_type": "code",
   "execution_count": 18,
   "id": "993eaa5c",
   "metadata": {},
   "outputs": [],
   "source": [
    "from pandas.api.types import is_string_dtype"
   ]
  },
  {
   "cell_type": "code",
   "execution_count": 19,
   "id": "59c5f30a",
   "metadata": {},
   "outputs": [],
   "source": [
    "import time   # to calculate time taken by the program\n",
    "begin=time.time()"
   ]
  },
  {
   "cell_type": "code",
   "execution_count": 20,
   "id": "7decb4e8",
   "metadata": {},
   "outputs": [
    {
     "name": "stdout",
     "output_type": "stream",
     "text": [
      "Total runtime of the program is 727.7479476928711\n"
     ]
    }
   ],
   "source": [
    "import pandas as pd\n",
    "from googletrans import Translator\n",
    "from retrying import retry\n",
    "from requests.exceptions import ReadTimeout, ConnectTimeout\n",
    "\n",
    "@retry(wait_fixed=2000, stop_max_attempt_number=5)\n",
    "def translate_text_with_retry(translator, text):\n",
    "    return translator.translate(text, dest='en').text\n",
    "\n",
    "def translate_csv(input_file, output_file):\n",
    "    translator = Translator()\n",
    "\n",
    "    # Read the CSV file using pandas\n",
    "    df = pd.read_csv(input_file, encoding='utf-8')\n",
    "\n",
    "    # Translate column headers\n",
    "    translated_headers = [translate_text_with_retry(translator, header) for header in df.columns]\n",
    "    df.columns = translated_headers\n",
    "\n",
    "    # Translate data in each cell\n",
    "    for column in df.columns:\n",
    "        #eliminating the conditions of numbers and empty columns as it is a waste of time \n",
    "        if not is_string_dtype(df[column]):  \n",
    "            continue\n",
    "        elif not list(df[column]):\n",
    "            continue\n",
    "        #translation\n",
    "        df[column] = df[column].apply(lambda cell: translate_text_with_retry(translator, str(cell)))\n",
    "\n",
    "    # Write the translated DataFrame to a new CSV file\n",
    "    df.to_csv(output_file, index=False, encoding='utf-8')\n",
    "\n",
    "if __name__ == \"__main__\":\n",
    "    input_csv_file = r\"C:\\Users\\User\\Downloads\\Order Export.csv\"  #Changed Order Export.xlx to csv for our benifit\n",
    "    output_csv_file = r\"C:\\Users\\User\\Downloads\\Order Export Translation.csv\"  # Replace with your desired output CSV file\n",
    "\n",
    "    translate_csv(input_csv_file, output_csv_file)\n",
    "    \n",
    "# store end time \n",
    "end = time.time() \n",
    " \n",
    "# total time taken \n",
    "print(f\"Total runtime of the program is {end - begin}\") \n"
   ]
  },
  {
   "cell_type": "code",
   "execution_count": null,
   "id": "db3a928b",
   "metadata": {},
   "outputs": [],
   "source": []
  },
  {
   "cell_type": "code",
   "execution_count": null,
   "id": "44a4e474",
   "metadata": {},
   "outputs": [],
   "source": []
  }
 ],
 "metadata": {
  "kernelspec": {
   "display_name": "Python 3 (ipykernel)",
   "language": "python",
   "name": "python3"
  },
  "language_info": {
   "codemirror_mode": {
    "name": "ipython",
    "version": 3
   },
   "file_extension": ".py",
   "mimetype": "text/x-python",
   "name": "python",
   "nbconvert_exporter": "python",
   "pygments_lexer": "ipython3",
   "version": "3.10.9"
  }
 },
 "nbformat": 4,
 "nbformat_minor": 5
}
